{
 "cells": [
  {
   "cell_type": "code",
   "execution_count": 1,
   "metadata": {},
   "outputs": [],
   "source": [
    "import shutil\n",
    "import os\n",
    "import pathlib\n",
    "import pickle"
   ]
  },
  {
   "cell_type": "code",
   "execution_count": 2,
   "metadata": {},
   "outputs": [],
   "source": [
    "IMG_PATH = \"data/celeba/img_align_celeba\""
   ]
  },
  {
   "cell_type": "code",
   "execution_count": 3,
   "metadata": {},
   "outputs": [],
   "source": [
    "def split(annot_path, img_dest_path, binname):\n",
    "    lines = None\n",
    "    \n",
    "    if not os.path.exists(img_dest_path):\n",
    "        os.mkdir(img_dest_path)\n",
    "        \n",
    "    data = []\n",
    "    \n",
    "    with open(annot_path, \"r\") as f:\n",
    "        for line in f:\n",
    "            splited = line.split(\" \")\n",
    "            filename = splited[0]\n",
    "            att = list(map(lambda st: int(st.replace(\"\\n\", \"\").replace(\"\\r\", \"\")), filter(lambda st: len(st) > 0, splited[1:])))\n",
    "            \n",
    "            src_path = IMG_PATH + \"/\" + filename\n",
    "            dest_path = img_dest_path + \"/\" + filename\n",
    "            shutil.copyfile(src_path, dest_path)\n",
    "            \n",
    "            data.append((dest_path, att))\n",
    "    \n",
    "    with open(f\"data/celeba/{binname}.bin\", \"wb\") as f:\n",
    "        pickle.dump(data, f)"
   ]
  },
  {
   "cell_type": "code",
   "execution_count": 4,
   "metadata": {},
   "outputs": [],
   "source": [
    "split(\"data/celeba/annotations/train_label.txt\", \"data/celeba/train\", \"train\")\n",
    "split(\"data/celeba/annotations/val_label.txt\", \"data/celeba/valid\", \"valid\")\n",
    "split(\"data/celeba/annotations/test_label.txt\", \"data/celeba/test\", \"test\")"
   ]
  },
  {
   "cell_type": "code",
   "execution_count": null,
   "metadata": {},
   "outputs": [],
   "source": []
  }
 ],
 "metadata": {
  "kernelspec": {
   "display_name": "Python 3",
   "language": "python",
   "name": "python3"
  },
  "language_info": {
   "codemirror_mode": {
    "name": "ipython",
    "version": 3
   },
   "file_extension": ".py",
   "mimetype": "text/x-python",
   "name": "python",
   "nbconvert_exporter": "python",
   "pygments_lexer": "ipython3",
   "version": "3.7.6"
  }
 },
 "nbformat": 4,
 "nbformat_minor": 4
}
