{
 "cells": [
  {
   "cell_type": "code",
   "execution_count": 1,
   "metadata": {},
   "outputs": [],
   "source": [
    "import shutil\n",
    "import os\n",
    "import pathlib\n",
    "import pickle\n",
    "import numpy as np"
   ]
  },
  {
   "cell_type": "code",
   "execution_count": 2,
   "metadata": {},
   "outputs": [],
   "source": [
    "IMG_PATH = \"data/celeba/img_align_celeba\""
   ]
  },
  {
   "cell_type": "code",
   "execution_count": 3,
   "metadata": {},
   "outputs": [],
   "source": [
    "def split(annot_path, img_dest_path, binname):\n",
    "    lines = None\n",
    "    \n",
    "    if not os.path.exists(img_dest_path):\n",
    "        os.mkdir(img_dest_path)\n",
    "        \n",
    "    data = []\n",
    "    \n",
    "    with open(annot_path, \"r\") as f:\n",
    "        for line in f:\n",
    "            splited = line.split(\" \")\n",
    "            filename = splited[0]\n",
    "            att = list(map(lambda st: int(st.replace(\"\\n\", \"\").replace(\"\\r\", \"\")), filter(lambda st: len(st) > 0, splited[1:])))\n",
    "            att = np.array(att)[[4, 8, 9, 11, 17, 35]]\n",
    "            att[att > 0] = 1\n",
    "            att[att < 0] = 0\n",
    "            \n",
    "            if att.sum() == 1:\n",
    "                src_path = IMG_PATH + \"/\" + filename\n",
    "                dest_path = img_dest_path + \"/\" + filename\n",
    "                shutil.copyfile(src_path, dest_path)\n",
    "\n",
    "                data.append((dest_path, att))\n",
    "                \n",
    "    print(f\"Size of dataset: {len(data)}\")\n",
    "    \n",
    "    with open(f\"data/celeba/{binname}.bin\", \"wb\") as f:\n",
    "        pickle.dump(data, f)"
   ]
  },
  {
   "cell_type": "code",
   "execution_count": 4,
   "metadata": {},
   "outputs": [
    {
     "name": "stdout",
     "output_type": "stream",
     "text": [
      "Size of dataset: 106659\n",
      "Size of dataset: 13223\n",
      "Size of dataset: 12843\n"
     ]
    }
   ],
   "source": [
    "split(\"data/celeba/annotations/train_label.txt\", \"data/celeba/train\", \"train\")\n",
    "split(\"data/celeba/annotations/val_label.txt\", \"data/celeba/valid\", \"valid\")\n",
    "split(\"data/celeba/annotations/test_label.txt\", \"data/celeba/test\", \"test\")"
   ]
  },
  {
   "cell_type": "code",
   "execution_count": null,
   "metadata": {},
   "outputs": [],
   "source": []
  }
 ],
 "metadata": {
  "kernelspec": {
   "display_name": "Python3 (Tensorflow 2)",
   "language": "python",
   "name": "tf2"
  },
  "language_info": {
   "codemirror_mode": {
    "name": "ipython",
    "version": 3
   },
   "file_extension": ".py",
   "mimetype": "text/x-python",
   "name": "python",
   "nbconvert_exporter": "python",
   "pygments_lexer": "ipython3",
   "version": "3.7.6"
  }
 },
 "nbformat": 4,
 "nbformat_minor": 4
}
