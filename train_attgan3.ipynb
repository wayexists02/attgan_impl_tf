{
 "cells": [
  {
   "cell_type": "markdown",
   "metadata": {},
   "source": [
    "# Attribute-GAN"
   ]
  },
  {
   "cell_type": "markdown",
   "metadata": {},
   "source": [
    "## Import Libraries"
   ]
  },
  {
   "cell_type": "code",
   "execution_count": null,
   "metadata": {},
   "outputs": [],
   "source": [
    "import os\n",
    "\n",
    "# environment for using multi-gpu.\n",
    "os.environ[\"CUDA_VISIBLE_DEVICES\"] = \"2,3\"\n",
    "\n",
    "import numpy as np\n",
    "import tensorflow as tf\n",
    "import cv2\n",
    "import matplotlib.pyplot as plt\n",
    "\n",
    "# import implementation\n",
    "from env import *\n",
    "from DataLoader import DataLoader\n",
    "from AttGan import AttGan"
   ]
  },
  {
   "cell_type": "code",
   "execution_count": null,
   "metadata": {},
   "outputs": [],
   "source": [
    "# construct test image\n",
    "test_image = cv2.imread(TEST_IMAGE)\n",
    "test_image = cv2.resize(test_image, dsize=(HEIGHT, WIDTH))\n",
    "test_image = (np.float32(test_image) - 128) / 128\n",
    "test_image_rgb = np.ubyte((test_image + 1) * 128)\n",
    "test_image_rgb = cv2.cvtColor(test_image_rgb, cv2.COLOR_BGR2RGB)\n",
    "\n",
    "# contruct test attributes\n",
    "test_att = np.array([-1., 1., 1.], dtype=np.float32)\n",
    "\n",
    "# print original test image\n",
    "print(\"Initial Image:\")\n",
    "plt.imshow(test_image_rgb)\n",
    "plt.show()\n",
    "\n",
    "# construct data loader\n",
    "dloader = DataLoader(BATCH_SIZE)\n",
    "dloader.build()\n",
    "\n",
    "# construct model\n",
    "model = AttGan(eta=ETA, num_att=dloader.num_att)\n",
    "model.build()\n",
    "\n",
    "# train\n",
    "for e in range(EPOCHS):\n",
    "    \n",
    "    global_step += 1\n",
    "    \n",
    "    # loss for generator and discriminator\n",
    "    train_loss_g = 0.0\n",
    "    train_loss_d = 0.0\n",
    "    \n",
    "    # batch train step\n",
    "    for X_src, X_att_a, X_att_b in dloader.next_batch():\n",
    "        loss_g, loss_d = model.step(X_src, X_att_a, X_att_b)\n",
    "        train_loss_g += loss_g\n",
    "        train_loss_d += loss_d\n",
    "        \n",
    "    # compute average loss\n",
    "    train_loss_g /= len(dloader)\n",
    "    train_loss_d /= len(dloader)\n",
    "    \n",
    "    print(f\"Epochs {e+1}/{EPOCHS}\")\n",
    "    print(f\"Train generator loss: {train_loss_g:.8f}\")\n",
    "    print(f\"Train discriminator loss: {train_loss_d:.8f}\")\n",
    "    \n",
    "    # test attgan\n",
    "    test_result = model.convert(test_image.reshape(-1, *test_image.shape), test_att.reshape(-1, *test_att.shape))\n",
    "    test_result = test_result.squeeze()\n",
    "    \n",
    "    test_result = np.ubyte((test_result + 1) * 128)\n",
    "    test_result = cv2.cvtColor(test_result, cv2.COLOR_BGR2RGB)\n",
    "    plt.imshow(test_result)\n",
    "    plt.show()\n",
    "    \n",
    "    model.save(\"./ckpts/attgan\")"
   ]
  },
  {
   "cell_type": "code",
   "execution_count": null,
   "metadata": {},
   "outputs": [],
   "source": []
  }
 ],
 "metadata": {
  "kernelspec": {
   "display_name": "Python 3",
   "language": "python",
   "name": "python3"
  },
  "language_info": {
   "codemirror_mode": {
    "name": "ipython",
    "version": 3
   },
   "file_extension": ".py",
   "mimetype": "text/x-python",
   "name": "python",
   "nbconvert_exporter": "python",
   "pygments_lexer": "ipython3",
   "version": "3.7.3"
  }
 },
 "nbformat": 4,
 "nbformat_minor": 4
}
