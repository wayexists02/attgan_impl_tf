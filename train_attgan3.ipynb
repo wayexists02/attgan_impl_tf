{
 "cells": [
  {
   "cell_type": "code",
   "execution_count": 1,
   "metadata": {},
   "outputs": [],
   "source": [
    "import os\n",
    "\n",
    "os.environ[\"CUDA_VISIBLE_DEVICES\"] = \"2, 3\"\n",
    "\n",
    "import numpy as np\n",
    "import tensorflow as tf\n",
    "\n",
    "from env import *\n",
    "from DataLoader import DataLoader\n",
    "from AttGan import AttGan"
   ]
  },
  {
   "cell_type": "code",
   "execution_count": null,
   "metadata": {},
   "outputs": [
    {
     "name": "stdout",
     "output_type": "stream",
     "text": [
      "Number of images: 202599\n",
      "Number of attributes: 40\n",
      "Number of batches: 1583\n",
      "Building Attgan...\n",
      "Building generator 0...\n",
      "Generator 0 was built.\n",
      "Building discriminator 0...\n",
      "Discriminator 0 was built.\n",
      "Building generator 1...\n",
      "Generator 1 was built.\n",
      "Building discriminator 1...\n",
      "Discriminator 1 was built.\n",
      "Attgan was built.\n",
      "Epochs 1/100\n",
      "Train generator loss: 22.79392473\n",
      "Train discriminator loss: 5.01570569\n",
      "Epochs 2/100\n",
      "Train generator loss: 14.50541979\n",
      "Train discriminator loss: 4.74660400\n",
      "Epochs 3/100\n",
      "Train generator loss: 11.35912283\n",
      "Train discriminator loss: 4.56898465\n",
      "Epochs 4/100\n",
      "Train generator loss: 9.40828161\n",
      "Train discriminator loss: 4.45024007\n",
      "Epochs 5/100\n",
      "Train generator loss: 8.20878866\n",
      "Train discriminator loss: 4.35790290\n",
      "Epochs 6/100\n",
      "Train generator loss: 7.44947854\n",
      "Train discriminator loss: 4.29061850\n",
      "Epochs 7/100\n",
      "Train generator loss: 6.95226767\n",
      "Train discriminator loss: 4.25633330\n",
      "Epochs 8/100\n",
      "Train generator loss: 6.59524694\n",
      "Train discriminator loss: 4.23405053\n",
      "Epochs 9/100\n",
      "Train generator loss: 6.31158497\n",
      "Train discriminator loss: 4.21937285\n",
      "Epochs 10/100\n",
      "Train generator loss: 6.07443308\n",
      "Train discriminator loss: 4.21075780\n",
      "Epochs 11/100\n",
      "Train generator loss: 5.77295915\n",
      "Train discriminator loss: 4.20026881\n"
     ]
    }
   ],
   "source": [
    "dloader = DataLoader(BATCH_SIZE)\n",
    "dloader.build()\n",
    "\n",
    "model = AttGan(eta=ETA, num_att=dloader.num_att)\n",
    "model.build()\n",
    "\n",
    "# tf.summary.FileWriter(\"./logdir/\", graph=model.graph)\n",
    "\n",
    "for e in range(EPOCHS):\n",
    "    train_loss_g = 0.0\n",
    "    train_loss_d = 0.0\n",
    "    \n",
    "    for X_src, X_att_a, X_att_b in dloader.next_batch():\n",
    "        loss_g, loss_d = model.step(X_src, X_att_a, X_att_b)\n",
    "        train_loss_g += loss_g\n",
    "        train_loss_d += loss_d\n",
    "        \n",
    "    train_loss_g /= len(dloader)\n",
    "    train_loss_d /= len(dloader)\n",
    "    \n",
    "    print(f\"Epochs {e+1}/{EPOCHS}\")\n",
    "    print(f\"Train generator loss: {train_loss_g:.8f}\")\n",
    "    print(f\"Train discriminator loss: {train_loss_d:.8f}\")\n",
    "    \n",
    "model.save(\"./ckpts/attgan\")"
   ]
  },
  {
   "cell_type": "code",
   "execution_count": 5,
   "metadata": {},
   "outputs": [],
   "source": [
    "import cv2\n",
    "import matplotlib.pyplot as plt"
   ]
  },
  {
   "cell_type": "code",
   "execution_count": null,
   "metadata": {},
   "outputs": [],
   "source": [
    "img = cv2.imread(\"data_sample_/img_align_celeba/000052.jpg\")\n",
    "img = cv2.resize(img, dsize=(96, 96)).astype(np.float32)\n",
    "\n",
    "img = (img - 128) / 128\n",
    "\n",
    "img_src = cv2.cvtColor((img + 1)/2, cv2.COLOR_BGR2RGB)\n",
    "plt.imshow(img_src)"
   ]
  },
  {
   "cell_type": "code",
   "execution_count": null,
   "metadata": {},
   "outputs": [],
   "source": [
    "img_converted = model.convert(img.reshape(1, *img.shape), np.ones((1, 1)))"
   ]
  },
  {
   "cell_type": "code",
   "execution_count": null,
   "metadata": {},
   "outputs": [],
   "source": [
    "img_converted = cv2.cvtColor(img_converted.squeeze(), cv2.COLOR_BGR2RGB)\n",
    "plt.imshow((img_converted*127 + 128)/255)"
   ]
  },
  {
   "cell_type": "code",
   "execution_count": null,
   "metadata": {},
   "outputs": [],
   "source": []
  }
 ],
 "metadata": {
  "kernelspec": {
   "display_name": "Python 3",
   "language": "python",
   "name": "python3"
  },
  "language_info": {
   "codemirror_mode": {
    "name": "ipython",
    "version": 3
   },
   "file_extension": ".py",
   "mimetype": "text/x-python",
   "name": "python",
   "nbconvert_exporter": "python",
   "pygments_lexer": "ipython3",
   "version": "3.6.7"
  }
 },
 "nbformat": 4,
 "nbformat_minor": 4
}
