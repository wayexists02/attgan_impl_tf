{
 "cells": [
  {
   "cell_type": "code",
   "execution_count": 1,
   "metadata": {},
   "outputs": [],
   "source": [
    "import numpy as np\n",
    "import tensorflow as tf\n",
    "\n",
    "from env import *\n",
    "from DataLoader import DataLoader\n",
    "from AttGan import AttGan"
   ]
  },
  {
   "cell_type": "code",
   "execution_count": 2,
   "metadata": {},
   "outputs": [
    {
     "name": "stderr",
     "output_type": "stream",
     "text": [
      "WARNING: Logging before flag parsing goes to stderr.\n",
      "W0731 01:16:01.626551 140321598322048 deprecation_wrapper.py:119] From /home/jylee/projects/attgan/AttGan.py:190: The name tf.placeholder is deprecated. Please use tf.compat.v1.placeholder instead.\n",
      "\n",
      "W0731 01:16:01.631087 140321598322048 deprecation_wrapper.py:119] From /home/jylee/projects/attgan/AttGan.py:132: The name tf.random_normal is deprecated. Please use tf.random.normal instead.\n",
      "\n"
     ]
    },
    {
     "name": "stdout",
     "output_type": "stream",
     "text": [
      "Number of images: 1000\n",
      "Number of attributes: 40\n",
      "Number of batches: 8\n",
      "Building Attgan...\n"
     ]
    },
    {
     "name": "stderr",
     "output_type": "stream",
     "text": [
      "W0731 01:16:01.824813 140321598322048 deprecation_wrapper.py:119] From /home/jylee/projects/attgan/AttGan.py:41: The name tf.train.AdamOptimizer is deprecated. Please use tf.compat.v1.train.AdamOptimizer instead.\n",
      "\n"
     ]
    },
    {
     "name": "stdout",
     "output_type": "stream",
     "text": [
      "Building generator...\n",
      "Generator was built.\n",
      "Building discriminator...\n"
     ]
    },
    {
     "name": "stderr",
     "output_type": "stream",
     "text": [
      "W0731 01:16:02.348870 140321598322048 deprecation.py:323] From /home/jylee/.conda/envs/tf1env/lib/python3.7/site-packages/tensorflow/python/ops/math_grad.py:1205: add_dispatch_support.<locals>.wrapper (from tensorflow.python.ops.array_ops) is deprecated and will be removed in a future version.\n",
      "Instructions for updating:\n",
      "Use tf.where in 2.0, which has the same broadcast rule as np.where\n"
     ]
    },
    {
     "name": "stdout",
     "output_type": "stream",
     "text": [
      "Discriminator was built.\n"
     ]
    },
    {
     "name": "stderr",
     "output_type": "stream",
     "text": [
      "W0731 01:16:07.072447 140321598322048 deprecation_wrapper.py:119] From /home/jylee/projects/attgan/AttGan.py:82: The name tf.Session is deprecated. Please use tf.compat.v1.Session instead.\n",
      "\n",
      "W0731 01:16:09.121306 140321598322048 deprecation_wrapper.py:119] From /home/jylee/projects/attgan/AttGan.py:83: The name tf.global_variables_initializer is deprecated. Please use tf.compat.v1.global_variables_initializer instead.\n",
      "\n",
      "W0731 01:16:10.218830 140321598322048 deprecation_wrapper.py:119] From /home/jylee/projects/attgan/AttGan.py:85: The name tf.train.Saver is deprecated. Please use tf.compat.v1.train.Saver instead.\n",
      "\n"
     ]
    },
    {
     "name": "stdout",
     "output_type": "stream",
     "text": [
      "Attgan was built.\n",
      "Epochs 1/50\n",
      "Train generator loss: 4.57853884\n",
      "Train discriminator loss: 4.28353256\n",
      "Epochs 2/50\n",
      "Train generator loss: 4.24223757\n",
      "Train discriminator loss: 4.04394978\n",
      "Epochs 3/50\n",
      "Train generator loss: 3.90823853\n",
      "Train discriminator loss: 4.03860658\n",
      "Epochs 4/50\n",
      "Train generator loss: 3.77488706\n",
      "Train discriminator loss: 4.02105820\n",
      "Epochs 5/50\n",
      "Train generator loss: 3.70022550\n",
      "Train discriminator loss: 4.00418523\n",
      "Epochs 6/50\n",
      "Train generator loss: 3.64596424\n",
      "Train discriminator loss: 3.96208072\n",
      "Epochs 7/50\n",
      "Train generator loss: 3.60503003\n",
      "Train discriminator loss: 3.93226314\n",
      "Epochs 8/50\n",
      "Train generator loss: 3.57321835\n",
      "Train discriminator loss: 3.91839549\n",
      "Epochs 9/50\n",
      "Train generator loss: 3.54822004\n",
      "Train discriminator loss: 3.89870089\n",
      "Epochs 10/50\n",
      "Train generator loss: 3.52853298\n",
      "Train discriminator loss: 3.86947042\n",
      "Epochs 11/50\n",
      "Train generator loss: 3.51395032\n",
      "Train discriminator loss: 3.84066400\n",
      "Epochs 12/50\n",
      "Train generator loss: 3.50303361\n",
      "Train discriminator loss: 3.81413388\n",
      "Epochs 13/50\n",
      "Train generator loss: 3.49414852\n",
      "Train discriminator loss: 3.78948194\n",
      "Epochs 14/50\n",
      "Train generator loss: 3.48704028\n",
      "Train discriminator loss: 3.75898618\n",
      "Epochs 15/50\n",
      "Train generator loss: 3.48069373\n",
      "Train discriminator loss: 3.73968032\n",
      "Epochs 16/50\n",
      "Train generator loss: 3.47474161\n",
      "Train discriminator loss: 3.71601799\n",
      "Epochs 17/50\n",
      "Train generator loss: 3.47001433\n",
      "Train discriminator loss: 3.69565374\n",
      "Epochs 18/50\n",
      "Train generator loss: 3.46403533\n",
      "Train discriminator loss: 3.67688024\n",
      "Epochs 19/50\n",
      "Train generator loss: 3.46060002\n",
      "Train discriminator loss: 3.65226352\n",
      "Epochs 20/50\n",
      "Train generator loss: 3.45501301\n",
      "Train discriminator loss: 3.63438612\n",
      "Epochs 21/50\n",
      "Train generator loss: 3.45091212\n",
      "Train discriminator loss: 3.61802745\n",
      "Epochs 22/50\n",
      "Train generator loss: 3.44569415\n",
      "Train discriminator loss: 3.60280415\n",
      "Epochs 23/50\n",
      "Train generator loss: 3.44097447\n",
      "Train discriminator loss: 3.59148943\n",
      "Epochs 24/50\n",
      "Train generator loss: 3.43642786\n",
      "Train discriminator loss: 3.58489490\n",
      "Epochs 25/50\n",
      "Train generator loss: 3.43200296\n",
      "Train discriminator loss: 3.57668373\n",
      "Epochs 26/50\n",
      "Train generator loss: 3.42722425\n",
      "Train discriminator loss: 3.57229096\n",
      "Epochs 27/50\n",
      "Train generator loss: 3.42286357\n",
      "Train discriminator loss: 3.56658545\n",
      "Epochs 28/50\n",
      "Train generator loss: 3.41824031\n",
      "Train discriminator loss: 3.55721030\n",
      "Epochs 29/50\n",
      "Train generator loss: 3.41407552\n",
      "Train discriminator loss: 3.55615869\n",
      "Epochs 30/50\n",
      "Train generator loss: 3.41047239\n",
      "Train discriminator loss: 3.55279979\n",
      "Epochs 31/50\n",
      "Train generator loss: 3.40716675\n",
      "Train discriminator loss: 3.54443049\n",
      "Epochs 32/50\n",
      "Train generator loss: 3.40366194\n",
      "Train discriminator loss: 3.54099122\n",
      "Epochs 33/50\n",
      "Train generator loss: 3.40066770\n",
      "Train discriminator loss: 3.53758106\n",
      "Epochs 34/50\n",
      "Train generator loss: 3.39749375\n",
      "Train discriminator loss: 3.53318936\n",
      "Epochs 35/50\n",
      "Train generator loss: 3.39409453\n",
      "Train discriminator loss: 3.52983645\n",
      "Epochs 36/50\n",
      "Train generator loss: 3.39108285\n",
      "Train discriminator loss: 3.52767599\n",
      "Epochs 37/50\n",
      "Train generator loss: 3.38863078\n",
      "Train discriminator loss: 3.52824563\n",
      "Epochs 38/50\n",
      "Train generator loss: 3.38509417\n",
      "Train discriminator loss: 3.52926895\n",
      "Epochs 39/50\n",
      "Train generator loss: 3.38367894\n",
      "Train discriminator loss: 3.52851591\n",
      "Epochs 40/50\n",
      "Train generator loss: 3.38064486\n",
      "Train discriminator loss: 3.52434736\n",
      "Epochs 41/50\n",
      "Train generator loss: 3.37920654\n",
      "Train discriminator loss: 3.52259830\n",
      "Epochs 42/50\n",
      "Train generator loss: 3.37748659\n",
      "Train discriminator loss: 3.52019280\n",
      "Epochs 43/50\n",
      "Train generator loss: 3.37521857\n",
      "Train discriminator loss: 3.52167547\n",
      "Epochs 44/50\n",
      "Train generator loss: 3.37398025\n",
      "Train discriminator loss: 3.51946577\n",
      "Epochs 45/50\n",
      "Train generator loss: 3.37150675\n",
      "Train discriminator loss: 3.51704007\n",
      "Epochs 46/50\n",
      "Train generator loss: 3.37080133\n",
      "Train discriminator loss: 3.51484081\n",
      "Epochs 47/50\n",
      "Train generator loss: 3.36976507\n",
      "Train discriminator loss: 3.50867751\n",
      "Epochs 48/50\n",
      "Train generator loss: 3.36902189\n",
      "Train discriminator loss: 3.50485581\n",
      "Epochs 49/50\n",
      "Train generator loss: 3.36777946\n",
      "Train discriminator loss: 3.50277731\n",
      "Epochs 50/50\n",
      "Train generator loss: 3.36635455\n",
      "Train discriminator loss: 3.50051716\n",
      "Attgan was saved.\n"
     ]
    }
   ],
   "source": [
    "dloader = DataLoader(BATCH_SIZE)\n",
    "dloader.build()\n",
    "\n",
    "model = AttGan(eta=ETA, num_att=dloader.num_att)\n",
    "model.build()\n",
    "\n",
    "tf.summary.FileWriter(\"./logdir/\", graph=model.graph)\n",
    "\n",
    "for e in range(EPOCHS):\n",
    "    train_loss_g = 0.0\n",
    "    train_loss_d = 0.0\n",
    "    \n",
    "    for X_src, X_att_a, X_att_b in dloader.next_batch():\n",
    "        loss_g, loss_d = model.step(X_src, X_att_a, X_att_b)\n",
    "        train_loss_g += loss_g\n",
    "        train_loss_d += loss_d\n",
    "        \n",
    "    train_loss_g /= len(dloader)\n",
    "    train_loss_d /= len(dloader)\n",
    "    \n",
    "    print(f\"Epochs {e+1}/{EPOCHS}\")\n",
    "    print(f\"Train generator loss: {train_loss_g:.8f}\")\n",
    "    print(f\"Train discriminator loss: {train_loss_d:.8f}\")\n",
    "    \n",
    "model.save(\"./ckpts/attgan\")"
   ]
  },
  {
   "cell_type": "code",
   "execution_count": 3,
   "metadata": {},
   "outputs": [],
   "source": [
    "import cv2\n",
    "import matplotlib.pyplot as plt"
   ]
  },
  {
   "cell_type": "code",
   "execution_count": 4,
   "metadata": {},
   "outputs": [
    {
     "data": {
      "text/plain": [
       "<matplotlib.image.AxesImage at 0x7f9e5414d908>"
      ]
     },
     "execution_count": 4,
     "metadata": {},
     "output_type": "execute_result"
    },
    {
     "data": {
      "image/png": "[encoded data removed]",
      "text/plain": [
       "<Figure size 432x288 with 1 Axes>"
      ]
     },
     "metadata": {
      "needs_background": "light"
     },
     "output_type": "display_data"
    }
   ],
   "source": [
    "img = cv2.imread(\"data_sample/img_align_celeba/000001.jpg\")\n",
    "img = cv2.resize(img, dsize=(96, 96)).astype(np.float32)\n",
    "\n",
    "img = (img - 128) / 128\n",
    "\n",
    "img_src = cv2.cvtColor((img + 1)/2, cv2.COLOR_BGR2RGB)\n",
    "plt.imshow(img_src)"
   ]
  },
  {
   "cell_type": "code",
   "execution_count": 5,
   "metadata": {},
   "outputs": [
    {
     "data": {
      "text/plain": [
       "array([[[ 0.515625 ,  0.8046875,  0.9765625],\n",
       "        [ 0.515625 ,  0.8046875,  0.9765625],\n",
       "        [ 0.515625 ,  0.8046875,  0.9765625],\n",
       "        ...,\n",
       "        [ 0.4375   ,  0.796875 ,  0.9296875],\n",
       "        [ 0.7421875,  0.796875 ,  0.953125 ],\n",
       "        [ 0.734375 ,  0.859375 ,  0.984375 ]],\n",
       "\n",
       "       [[ 0.515625 ,  0.8046875,  0.9765625],\n",
       "        [ 0.515625 ,  0.8046875,  0.9765625],\n",
       "        [ 0.515625 ,  0.8046875,  0.9765625],\n",
       "        ...,\n",
       "        [ 0.53125  ,  0.859375 ,  0.96875  ],\n",
       "        [ 0.7578125,  0.8203125,  0.96875  ],\n",
       "        [ 0.7421875,  0.8671875,  0.9921875]],\n",
       "\n",
       "       [[ 0.515625 ,  0.8046875,  0.9765625],\n",
       "        [ 0.515625 ,  0.8046875,  0.9765625],\n",
       "        [ 0.515625 ,  0.8046875,  0.9765625],\n",
       "        ...,\n",
       "        [ 0.609375 ,  0.875    ,  0.984375 ],\n",
       "        [ 0.7578125,  0.84375  ,  0.96875  ],\n",
       "        [ 0.71875  ,  0.84375  ,  0.96875  ]],\n",
       "\n",
       "       ...,\n",
       "\n",
       "       [[-0.4609375, -0.0625   ,  0.4453125],\n",
       "        [-0.453125 , -0.0859375,  0.4296875],\n",
       "        [-0.859375 , -0.640625 , -0.1171875],\n",
       "        ...,\n",
       "        [-0.9609375, -0.7890625, -0.3046875],\n",
       "        [-0.9375   , -0.765625 , -0.28125  ],\n",
       "        [-0.921875 , -0.7578125, -0.3046875]],\n",
       "\n",
       "       [[-0.7109375, -0.328125 ,  0.1875   ],\n",
       "        [-0.8671875, -0.5      ,  0.015625 ],\n",
       "        [-0.6171875, -0.296875 ,  0.2421875],\n",
       "        ...,\n",
       "        [-0.8125   , -0.609375 , -0.09375  ],\n",
       "        [-0.8515625, -0.6484375, -0.1328125],\n",
       "        [-0.8828125, -0.6875   , -0.1875   ]],\n",
       "\n",
       "       [[-0.71875  , -0.34375  ,  0.1875   ],\n",
       "        [-0.3203125,  0.0234375,  0.5625   ],\n",
       "        [-0.1171875,  0.1875   ,  0.7421875],\n",
       "        ...,\n",
       "        [-0.8359375, -0.609375 , -0.0703125],\n",
       "        [-0.84375  , -0.6171875, -0.078125 ],\n",
       "        [-0.8125   , -0.609375 , -0.0703125]]], dtype=float32)"
      ]
     },
     "execution_count": 5,
     "metadata": {},
     "output_type": "execute_result"
    }
   ],
   "source": [
    "img"
   ]
  },
  {
   "cell_type": "code",
   "execution_count": 6,
   "metadata": {},
   "outputs": [],
   "source": [
    "img_converted = model.convert(img.reshape(1, *img.shape), np.ones((1, 40)))"
   ]
  },
  {
   "cell_type": "code",
   "execution_count": 7,
   "metadata": {},
   "outputs": [
    {
     "data": {
      "text/plain": [
       "(1, 96, 96, 3)"
      ]
     },
     "execution_count": 7,
     "metadata": {},
     "output_type": "execute_result"
    }
   ],
   "source": [
    "img_converted.shape"
   ]
  },
  {
   "cell_type": "code",
   "execution_count": 8,
   "metadata": {},
   "outputs": [
    {
     "data": {
      "text/plain": [
       "<matplotlib.image.AxesImage at 0x7f9e540eee80>"
      ]
     },
     "execution_count": 8,
     "metadata": {},
     "output_type": "execute_result"
    },
    {
     "data": {
      "image/png": "[encoded data removed]",
      "text/plain": [
       "<Figure size 432x288 with 1 Axes>"
      ]
     },
     "metadata": {
      "needs_background": "light"
     },
     "output_type": "display_data"
    }
   ],
   "source": [
    "img_converted = cv2.cvtColor(img_converted.squeeze(), cv2.COLOR_BGR2RGB)\n",
    "plt.imshow((img_converted*128 + 128)/255)"
   ]
  },
  {
   "cell_type": "code",
   "execution_count": 9,
   "metadata": {},
   "outputs": [
    {
     "data": {
      "text/plain": [
       "[<tf.Variable 'attgan/params/Variable:0' shape=(5, 5, 3, 16) dtype=float32_ref>,\n",
       " <tf.Variable 'attgan/params/Variable_1:0' shape=(1, 1, 1, 16) dtype=float32_ref>,\n",
       " <tf.Variable 'attgan/params/Variable_2:0' shape=(5, 5, 16, 16) dtype=float32_ref>,\n",
       " <tf.Variable 'attgan/params/Variable_3:0' shape=(1, 1, 1, 16) dtype=float32_ref>,\n",
       " <tf.Variable 'attgan/params/Variable_4:0' shape=(5, 5, 16, 32) dtype=float32_ref>,\n",
       " <tf.Variable 'attgan/params/Variable_5:0' shape=(1, 1, 1, 32) dtype=float32_ref>,\n",
       " <tf.Variable 'attgan/params/Variable_6:0' shape=(5, 5, 32, 32) dtype=float32_ref>,\n",
       " <tf.Variable 'attgan/params/Variable_7:0' shape=(1, 1, 1, 32) dtype=float32_ref>,\n",
       " <tf.Variable 'attgan/params/Variable_8:0' shape=(5, 5, 32, 72) dtype=float32_ref>,\n",
       " <tf.Variable 'attgan/params/Variable_9:0' shape=(1, 1, 1, 32) dtype=float32_ref>,\n",
       " <tf.Variable 'attgan/params/Variable_10:0' shape=(5, 5, 16, 32) dtype=float32_ref>,\n",
       " <tf.Variable 'attgan/params/Variable_11:0' shape=(1, 1, 1, 16) dtype=float32_ref>,\n",
       " <tf.Variable 'attgan/params/Variable_12:0' shape=(5, 5, 16, 16) dtype=float32_ref>,\n",
       " <tf.Variable 'attgan/params/Variable_13:0' shape=(1, 1, 1, 16) dtype=float32_ref>,\n",
       " <tf.Variable 'attgan/params/Variable_14:0' shape=(5, 5, 3, 16) dtype=float32_ref>,\n",
       " <tf.Variable 'attgan/params/Variable_15:0' shape=(1, 1, 1, 3) dtype=float32_ref>]"
      ]
     },
     "execution_count": 9,
     "metadata": {},
     "output_type": "execute_result"
    }
   ],
   "source": [
    "model.Gparams"
   ]
  },
  {
   "cell_type": "code",
   "execution_count": 10,
   "metadata": {},
   "outputs": [
    {
     "data": {
      "text/plain": [
       "[None, 40]"
      ]
     },
     "execution_count": 10,
     "metadata": {},
     "output_type": "execute_result"
    }
   ],
   "source": [
    "model.X_att_b.get_shape().as_list()"
   ]
  },
  {
   "cell_type": "code",
   "execution_count": 11,
   "metadata": {},
   "outputs": [
    {
     "data": {
      "text/plain": [
       "-1.0"
      ]
     },
     "execution_count": 11,
     "metadata": {},
     "output_type": "execute_result"
    }
   ],
   "source": [
    "img.min()"
   ]
  },
  {
   "cell_type": "code",
   "execution_count": 12,
   "metadata": {},
   "outputs": [
    {
     "data": {
      "text/plain": [
       "0.98365843"
      ]
     },
     "execution_count": 12,
     "metadata": {},
     "output_type": "execute_result"
    }
   ],
   "source": [
    "img_converted.max()"
   ]
  },
  {
   "cell_type": "code",
   "execution_count": 13,
   "metadata": {},
   "outputs": [
    {
     "data": {
      "text/plain": [
       "(104, 40)"
      ]
     },
     "execution_count": 13,
     "metadata": {},
     "output_type": "execute_result"
    }
   ],
   "source": [
    "X_att_a.shape"
   ]
  },
  {
   "cell_type": "code",
   "execution_count": 14,
   "metadata": {},
   "outputs": [
    {
     "data": {
      "text/plain": [
       "(104, 40)"
      ]
     },
     "execution_count": 14,
     "metadata": {},
     "output_type": "execute_result"
    }
   ],
   "source": [
    "X_att_b.shape"
   ]
  },
  {
   "cell_type": "code",
   "execution_count": null,
   "metadata": {},
   "outputs": [],
   "source": []
  }
 ],
 "metadata": {
  "kernelspec": {
   "display_name": "Python 3",
   "language": "python",
   "name": "python3"
  },
  "language_info": {
   "codemirror_mode": {
    "name": "ipython",
    "version": 3
   },
   "file_extension": ".py",
   "mimetype": "text/x-python",
   "name": "python",
   "nbconvert_exporter": "python",
   "pygments_lexer": "ipython3",
   "version": "3.7.3"
  }
 },
 "nbformat": 4,
 "nbformat_minor": 4
}
